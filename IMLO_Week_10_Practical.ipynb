{
  "nbformat": 4,
  "nbformat_minor": 0,
  "metadata": {
    "colab": {
      "provenance": [],
      "gpuType": "T4",
      "authorship_tag": "ABX9TyMZ+oI7J6bHj0tVopHTNKoc",
      "include_colab_link": true
    },
    "kernelspec": {
      "name": "python3",
      "display_name": "Python 3"
    },
    "language_info": {
      "name": "python"
    },
    "accelerator": "GPU"
  },
  "cells": [
    {
      "cell_type": "markdown",
      "metadata": {
        "id": "view-in-github",
        "colab_type": "text"
      },
      "source": [
        "<a href=\"https://colab.research.google.com/github/AACRobinson/IMLO-Assessment/blob/main/IMLO_Week_10_Practical.ipynb\" target=\"_parent\"><img src=\"https://colab.research.google.com/assets/colab-badge.svg\" alt=\"Open In Colab\"/></a>"
      ]
    },
    {
      "cell_type": "markdown",
      "source": [
        "# **PyTorch Tutorial**"
      ],
      "metadata": {
        "id": "1MAGrFAQAK2Z"
      }
    },
    {
      "cell_type": "code",
      "execution_count": 2,
      "metadata": {
        "id": "DSqb5XVZ_LCt"
      },
      "outputs": [],
      "source": [
        "#Tensor - A multidimensional array/matrix, common in PyTorch\n",
        "\n",
        "import torch\n",
        "import numpy as np"
      ]
    },
    {
      "cell_type": "markdown",
      "source": [
        "### **Initialising Tensors**"
      ],
      "metadata": {
        "id": "_JxgHgPhOO9T"
      }
    },
    {
      "cell_type": "code",
      "source": [
        "#1. Directly from data\n",
        "data1 = [[1, 2], [3, 4]]\n",
        "data2 = [[1.0], [2.0], [3.0], [4.0]]\n",
        "tensorData1 = torch.tensor(data1)\n",
        "tensorData2 = torch.tensor(data2)\n",
        "print(tensorData1, tensorData1.dtype)\n",
        "print(tensorData2, tensorData2.dtype)\n",
        "\n",
        "#2. From (an to) NumPy arrays\n",
        "np_array1 = np.array(data1)\n",
        "tensorNp1 = torch.from_numpy(np_array1)\n",
        "np_array2 = tensorNp1.numpy()\n",
        "print(tensorNp1)\n",
        "print(np_array2)\n",
        "\n",
        "#3. From another tensor\n",
        "tensorOf1s = torch.ones_like(tensorData2) #Same dimensions and datatype as tensorData2\n",
        "print(tensorOf1s)\n",
        "tensorOf0s = torch.zeros((3, 3)) #Dimensions of (3, 3)\n",
        "print(tensorOf0s)\n",
        "tensorRandom = torch.rand_like(tensorData1, dtype=torch.float) #Same dimensions as tensorData1, but float datatype\n",
        "print(tensorRandom)"
      ],
      "metadata": {
        "colab": {
          "base_uri": "https://localhost:8080/"
        },
        "id": "fIiawKNyAGlL",
        "outputId": "8b00eea0-5234-4096-cc2c-5c4007da967e"
      },
      "execution_count": 3,
      "outputs": [
        {
          "output_type": "stream",
          "name": "stdout",
          "text": [
            "tensor([[1, 2],\n",
            "        [3, 4]]) torch.int64\n",
            "tensor([[1.],\n",
            "        [2.],\n",
            "        [3.],\n",
            "        [4.]]) torch.float32\n",
            "tensor([[1, 2],\n",
            "        [3, 4]])\n",
            "[[1 2]\n",
            " [3 4]]\n",
            "tensor([[1.],\n",
            "        [1.],\n",
            "        [1.],\n",
            "        [1.]])\n",
            "tensor([[0., 0., 0.],\n",
            "        [0., 0., 0.],\n",
            "        [0., 0., 0.]])\n",
            "tensor([[0.7750, 0.3789],\n",
            "        [0.2682, 0.4352]])\n"
          ]
        }
      ]
    },
    {
      "cell_type": "markdown",
      "source": [
        "### **Tensor Operations**"
      ],
      "metadata": {
        "id": "PCJ3sbG5OW27"
      }
    },
    {
      "cell_type": "code",
      "source": [
        "#Can run these operations on a GPU - Allocate  GPU to run on with Runtime > Change Runtime Type > GPU\n",
        "\n",
        "#Move a tensor to the GPU\n",
        "if torch.cuda.is_available():\n",
        "  tensorData1 = tensorData1.to('cuda')\n",
        "  tensorData2 = tensorData2.to('cuda')\n",
        "  #To prevent errors between tensors due to operations with them being on the cpu/cuda, will move them off\n",
        "  tensorData1 = tensorData1.to('cpu')\n",
        "  tensorData2 = tensorData2.to('cpu')\n",
        "\n",
        "\n",
        "#Tensor slicing - identical to NumPy\n",
        "tensor4x4 = torch.zeros(4, 4)\n",
        "tensor4x4[1] = 1\n",
        "tensor4x4[:, 2] = 1\n",
        "print(tensor4x4)\n",
        "print(\"Row 0\", tensor4x4[0])\n",
        "print(\"Column 0\", tensor4x4[:, 0])\n",
        "print(\"Row n\", tensor4x4[-1])\n",
        "print(\"Column n\", tensor4x4[..., -1], \"\\n\")\n",
        "\n",
        "\n",
        "#Tensor type conversion\n",
        "print(tensor4x4, tensor4x4.dtype)\n",
        "tensor4x4 = tensor4x4.to(int)\n",
        "print(tensor4x4, tensor4x4.dtype, \"\\n\")\n",
        "\n",
        "\n",
        "#Tensor concatenation\n",
        "tensor4x8 = torch.cat([tensor4x4, tensor4x4]) #dim=0\n",
        "tensor8x4 = torch.cat([tensor4x4, tensor4x4], dim=1)\n",
        "print(tensor4x8)\n",
        "print(tensor8x4, \"\\n\")\n",
        "\n",
        "\n",
        "#Tensor arithmetic - identical to NumPy\n",
        "tensorMul2_2 = tensorData2 @ tensorData2.T\n",
        "tensorMul1_1 = tensorData1.to(float).matmul(tensorData1.to(float))\n",
        "tensorMul2_4x4 = torch.rand_like(tensorData2)\n",
        "torch.mul(tensorData2, tensor4x4, out=tensorMul2_4x4)\n",
        "print(tensorMul2_2)\n",
        "print(tensorMul1_1)\n",
        "print(tensorMul2_4x4, \"\\n\")\n",
        "\n",
        "\n",
        "#Get the sum of all values in a tensor (and convert to corresponding datatype)\n",
        "sumOfMul2_4x4 = tensorMul2_4x4.sum()\n",
        "sumOfMul2_4x4Object = sumOfMul2_4x4.item()\n",
        "print(sumOfMul2_4x4Object, type(sumOfMul2_4x4Object), \"\\n\")\n",
        "\n",
        "\n",
        "#Add a scalar to all values in the tensor\n",
        "tensor4x4.add_(2)\n",
        "print(tensor4x4)"
      ],
      "metadata": {
        "colab": {
          "base_uri": "https://localhost:8080/"
        },
        "id": "ktsBdkR4EHiV",
        "outputId": "65232b72-f4b3-471a-c37d-0ea349c9d5a9"
      },
      "execution_count": 38,
      "outputs": [
        {
          "output_type": "stream",
          "name": "stdout",
          "text": [
            "tensor([[0., 0., 1., 0.],\n",
            "        [1., 1., 1., 1.],\n",
            "        [0., 0., 1., 0.],\n",
            "        [0., 0., 1., 0.]])\n",
            "Row 0 tensor([0., 0., 1., 0.])\n",
            "Column 0 tensor([0., 1., 0., 0.])\n",
            "Row n tensor([0., 0., 1., 0.])\n",
            "Column n tensor([0., 1., 0., 0.]) \n",
            "\n",
            "tensor([[0., 0., 1., 0.],\n",
            "        [1., 1., 1., 1.],\n",
            "        [0., 0., 1., 0.],\n",
            "        [0., 0., 1., 0.]]) torch.float32\n",
            "tensor([[0, 0, 1, 0],\n",
            "        [1, 1, 1, 1],\n",
            "        [0, 0, 1, 0],\n",
            "        [0, 0, 1, 0]]) torch.int64 \n",
            "\n",
            "tensor([[0, 0, 1, 0],\n",
            "        [1, 1, 1, 1],\n",
            "        [0, 0, 1, 0],\n",
            "        [0, 0, 1, 0],\n",
            "        [0, 0, 1, 0],\n",
            "        [1, 1, 1, 1],\n",
            "        [0, 0, 1, 0],\n",
            "        [0, 0, 1, 0]])\n",
            "tensor([[0, 0, 1, 0, 0, 0, 1, 0],\n",
            "        [1, 1, 1, 1, 1, 1, 1, 1],\n",
            "        [0, 0, 1, 0, 0, 0, 1, 0],\n",
            "        [0, 0, 1, 0, 0, 0, 1, 0]]) \n",
            "\n",
            "tensor([[ 1.,  2.,  3.,  4.],\n",
            "        [ 2.,  4.,  6.,  8.],\n",
            "        [ 3.,  6.,  9., 12.],\n",
            "        [ 4.,  8., 12., 16.]])\n",
            "tensor([[ 7., 10.],\n",
            "        [15., 22.]], dtype=torch.float64)\n",
            "tensor([[0., 0., 1., 0.],\n",
            "        [2., 2., 2., 2.],\n",
            "        [0., 0., 3., 0.],\n",
            "        [0., 0., 4., 0.]]) \n",
            "\n",
            "16.0 <class 'float'> \n",
            "\n",
            "tensor([[2, 2, 3, 2],\n",
            "        [3, 3, 3, 3],\n",
            "        [2, 2, 3, 2],\n",
            "        [2, 2, 3, 2]])\n"
          ]
        },
        {
          "output_type": "stream",
          "name": "stderr",
          "text": [
            "<ipython-input-38-b84d525d089f>:42: UserWarning: An output with one or more elements was resized since it had shape [4, 1], which does not match the required output shape [4, 4]. This behavior is deprecated, and in a future PyTorch release outputs will not be resized unless they have zero elements. You can explicitly reuse an out tensor t by resizing it, inplace, to zero elements with t.resize_(0). (Triggered internally at ../aten/src/ATen/native/Resize.cpp:28.)\n",
            "  torch.mul(tensorData2, tensor4x4, out=tensorMul2_4x4)\n"
          ]
        }
      ]
    },
    {
      "cell_type": "markdown",
      "source": [
        "### **NumPy Bridging**"
      ],
      "metadata": {
        "id": "ox41V1wmOoFG"
      }
    },
    {
      "cell_type": "code",
      "source": [
        "#Tensors on the CPU can share memory locations with NumPy arrays - so data can be shared between them\n",
        "\n",
        "tensorBridge = torch.ones(5)\n",
        "numpyBridge = tensorBridge.numpy()\n",
        "print(\"Tensor: \", tensorBridge, \"\\n\", \"NumPy: \", numpyBridge, \"\\n\")\n",
        "\n",
        "tensorBridge.add_(1)\n",
        "print(\"Tensor: \", tensorBridge, \"\\n\", \"NumPy: \", numpyBridge, \"\\n\")\n",
        "\n",
        "np.add(numpyBridge, 1, out=numpyBridge)\n",
        "print(\"Tensor: \", tensorBridge, \"\\n\", \"NumPy: \", numpyBridge, \"\\n\")"
      ],
      "metadata": {
        "colab": {
          "base_uri": "https://localhost:8080/"
        },
        "id": "WtE8SY5HN-7H",
        "outputId": "3668fcc2-ce8b-4e38-dc09-b65cfbedf8cb"
      },
      "execution_count": 45,
      "outputs": [
        {
          "output_type": "stream",
          "name": "stdout",
          "text": [
            "Tensor:  tensor([1., 1., 1., 1., 1.]) \n",
            " NumPy:  [1. 1. 1. 1. 1.] \n",
            "\n",
            "Tensor:  tensor([2., 2., 2., 2., 2.]) \n",
            " NumPy:  [2. 2. 2. 2. 2.] \n",
            "\n",
            "Tensor:  tensor([3., 3., 3., 3., 3.]) \n",
            " NumPy:  [3. 3. 3. 3. 3.] \n",
            "\n"
          ]
        }
      ]
    }
  ]
}