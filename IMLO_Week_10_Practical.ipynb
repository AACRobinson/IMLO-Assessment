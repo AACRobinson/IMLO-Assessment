{
  "nbformat": 4,
  "nbformat_minor": 0,
  "metadata": {
    "colab": {
      "provenance": [],
      "gpuType": "T4",
      "authorship_tag": "ABX9TyNmsX4/jlnUmSXTwXzHFRmY",
      "include_colab_link": true
    },
    "kernelspec": {
      "name": "python3",
      "display_name": "Python 3"
    },
    "language_info": {
      "name": "python"
    }
  },
  "cells": [
    {
      "cell_type": "markdown",
      "metadata": {
        "id": "view-in-github",
        "colab_type": "text"
      },
      "source": [
        "<a href=\"https://colab.research.google.com/github/AACRobinson/IMLO-Assessment/blob/main/IMLO_Week_10_Practical.ipynb\" target=\"_parent\"><img src=\"https://colab.research.google.com/assets/colab-badge.svg\" alt=\"Open In Colab\"/></a>"
      ]
    },
    {
      "cell_type": "markdown",
      "source": [
        "# **PyTorch Tutorial**"
      ],
      "metadata": {
        "id": "1MAGrFAQAK2Z"
      }
    },
    {
      "cell_type": "code",
      "execution_count": 9,
      "metadata": {
        "id": "DSqb5XVZ_LCt"
      },
      "outputs": [],
      "source": [
        "#Tensor - A multidimensional array/matrix, common in PyTorch\n",
        "\n",
        "import torch\n",
        "import numpy as np"
      ]
    },
    {
      "cell_type": "markdown",
      "source": [
        "## **Initialising Tensors**"
      ],
      "metadata": {
        "id": "_JxgHgPhOO9T"
      }
    },
    {
      "cell_type": "code",
      "source": [
        "#1. Directly from data\n",
        "data1 = [[1, 2], [3, 4]]\n",
        "data2 = [[1.0], [2.0], [3.0], [4.0]]\n",
        "tensorData1 = torch.tensor(data1)\n",
        "tensorData2 = torch.tensor(data2)\n",
        "print(tensorData1, tensorData1.dtype)\n",
        "print(tensorData2, tensorData2.dtype)\n",
        "\n",
        "#2. From (an to) NumPy arrays\n",
        "np_array1 = np.array(data1)\n",
        "tensorNp1 = torch.from_numpy(np_array1)\n",
        "np_array2 = tensorNp1.numpy()\n",
        "print(tensorNp1)\n",
        "print(np_array2)\n",
        "\n",
        "#3. From another tensor\n",
        "tensorOf1s = torch.ones_like(tensorData2) #Same dimensions and datatype as tensorData2\n",
        "print(tensorOf1s)\n",
        "tensorOf0s = torch.zeros((3, 3)) #Dimensions of (3, 3)\n",
        "print(tensorOf0s)\n",
        "tensorRandom = torch.rand_like(tensorData1, dtype=torch.float) #Same dimensions as tensorData1, but float datatype\n",
        "print(tensorRandom)"
      ],
      "metadata": {
        "colab": {
          "base_uri": "https://localhost:8080/"
        },
        "id": "fIiawKNyAGlL",
        "outputId": "30124f38-ba1e-4df9-c282-24528c85b8a5"
      },
      "execution_count": 10,
      "outputs": [
        {
          "output_type": "stream",
          "name": "stdout",
          "text": [
            "tensor([[1, 2],\n",
            "        [3, 4]]) torch.int64\n",
            "tensor([[1.],\n",
            "        [2.],\n",
            "        [3.],\n",
            "        [4.]]) torch.float32\n",
            "tensor([[1, 2],\n",
            "        [3, 4]])\n",
            "[[1 2]\n",
            " [3 4]]\n",
            "tensor([[1.],\n",
            "        [1.],\n",
            "        [1.],\n",
            "        [1.]])\n",
            "tensor([[0., 0., 0.],\n",
            "        [0., 0., 0.],\n",
            "        [0., 0., 0.]])\n",
            "tensor([[0.6822, 0.6538],\n",
            "        [0.4175, 0.7269]])\n"
          ]
        }
      ]
    },
    {
      "cell_type": "markdown",
      "source": [
        "### **Tensor Operations**"
      ],
      "metadata": {
        "id": "PCJ3sbG5OW27"
      }
    },
    {
      "cell_type": "code",
      "source": [
        "#Can run these operations on a GPU - Allocate  GPU to run on with Runtime > Change Runtime Type > GPU\n",
        "\n",
        "#Move a tensor to the GPU\n",
        "if torch.cuda.is_available():\n",
        "  tensorData1 = tensorData1.to('cuda')\n",
        "  tensorData2 = tensorData2.to('cuda')\n",
        "  #To prevent errors between tensors due to operations with them being on the cpu/cuda, will move them off\n",
        "  tensorData1 = tensorData1.to('cpu')\n",
        "  tensorData2 = tensorData2.to('cpu')\n",
        "\n",
        "\n",
        "#Tensor slicing - identical to NumPy\n",
        "tensor4x4 = torch.zeros(4, 4)\n",
        "tensor4x4[1] = 1\n",
        "tensor4x4[:, 2] = 1\n",
        "print(tensor4x4)\n",
        "print(\"Row 0\", tensor4x4[0])\n",
        "print(\"Column 0\", tensor4x4[:, 0])\n",
        "print(\"Row n\", tensor4x4[-1])\n",
        "print(\"Column n\", tensor4x4[..., -1], \"\\n\")\n",
        "\n",
        "\n",
        "#Tensor type conversion\n",
        "print(tensor4x4, tensor4x4.dtype)\n",
        "tensor4x4 = tensor4x4.to(int)\n",
        "print(tensor4x4, tensor4x4.dtype, \"\\n\")\n",
        "\n",
        "\n",
        "#Tensor concatenation\n",
        "tensor4x8 = torch.cat([tensor4x4, tensor4x4]) #dim=0\n",
        "tensor8x4 = torch.cat([tensor4x4, tensor4x4], dim=1)\n",
        "print(tensor4x8)\n",
        "print(tensor8x4, \"\\n\")\n",
        "\n",
        "\n",
        "#Tensor arithmetic - identical to NumPy\n",
        "tensorMul2_2 = tensorData2 @ tensorData2.T\n",
        "tensorMul1_1 = tensorData1.to(float).matmul(tensorData1.to(float))\n",
        "tensorMul2_4x4 = torch.rand_like(tensorData2)\n",
        "torch.mul(tensorData2, tensor4x4, out=tensorMul2_4x4)\n",
        "print(tensorMul2_2)\n",
        "print(tensorMul1_1)\n",
        "print(tensorMul2_4x4, \"\\n\")\n",
        "\n",
        "\n",
        "#Get the sum of all values in a tensor (and convert to corresponding datatype)\n",
        "sumOfMul2_4x4 = tensorMul2_4x4.sum()\n",
        "sumOfMul2_4x4Object = sumOfMul2_4x4.item()\n",
        "print(sumOfMul2_4x4Object, type(sumOfMul2_4x4Object), \"\\n\")\n",
        "\n",
        "\n",
        "#Add a scalar to all values in the tensor\n",
        "tensor4x4.add_(2)\n",
        "print(tensor4x4)"
      ],
      "metadata": {
        "colab": {
          "base_uri": "https://localhost:8080/"
        },
        "id": "ktsBdkR4EHiV",
        "outputId": "5c71e53b-0057-4b3e-8bfd-0c86cfaacc36"
      },
      "execution_count": 11,
      "outputs": [
        {
          "output_type": "stream",
          "name": "stdout",
          "text": [
            "tensor([[0., 0., 1., 0.],\n",
            "        [1., 1., 1., 1.],\n",
            "        [0., 0., 1., 0.],\n",
            "        [0., 0., 1., 0.]])\n",
            "Row 0 tensor([0., 0., 1., 0.])\n",
            "Column 0 tensor([0., 1., 0., 0.])\n",
            "Row n tensor([0., 0., 1., 0.])\n",
            "Column n tensor([0., 1., 0., 0.]) \n",
            "\n",
            "tensor([[0., 0., 1., 0.],\n",
            "        [1., 1., 1., 1.],\n",
            "        [0., 0., 1., 0.],\n",
            "        [0., 0., 1., 0.]]) torch.float32\n",
            "tensor([[0, 0, 1, 0],\n",
            "        [1, 1, 1, 1],\n",
            "        [0, 0, 1, 0],\n",
            "        [0, 0, 1, 0]]) torch.int64 \n",
            "\n",
            "tensor([[0, 0, 1, 0],\n",
            "        [1, 1, 1, 1],\n",
            "        [0, 0, 1, 0],\n",
            "        [0, 0, 1, 0],\n",
            "        [0, 0, 1, 0],\n",
            "        [1, 1, 1, 1],\n",
            "        [0, 0, 1, 0],\n",
            "        [0, 0, 1, 0]])\n",
            "tensor([[0, 0, 1, 0, 0, 0, 1, 0],\n",
            "        [1, 1, 1, 1, 1, 1, 1, 1],\n",
            "        [0, 0, 1, 0, 0, 0, 1, 0],\n",
            "        [0, 0, 1, 0, 0, 0, 1, 0]]) \n",
            "\n",
            "tensor([[ 1.,  2.,  3.,  4.],\n",
            "        [ 2.,  4.,  6.,  8.],\n",
            "        [ 3.,  6.,  9., 12.],\n",
            "        [ 4.,  8., 12., 16.]])\n",
            "tensor([[ 7., 10.],\n",
            "        [15., 22.]], dtype=torch.float64)\n",
            "tensor([[0., 0., 1., 0.],\n",
            "        [2., 2., 2., 2.],\n",
            "        [0., 0., 3., 0.],\n",
            "        [0., 0., 4., 0.]]) \n",
            "\n",
            "16.0 <class 'float'> \n",
            "\n",
            "tensor([[2, 2, 3, 2],\n",
            "        [3, 3, 3, 3],\n",
            "        [2, 2, 3, 2],\n",
            "        [2, 2, 3, 2]])\n"
          ]
        },
        {
          "output_type": "stream",
          "name": "stderr",
          "text": [
            "<ipython-input-11-e7812767c14f>:40: UserWarning: An output with one or more elements was resized since it had shape [4, 1], which does not match the required output shape [4, 4]. This behavior is deprecated, and in a future PyTorch release outputs will not be resized unless they have zero elements. You can explicitly reuse an out tensor t by resizing it, inplace, to zero elements with t.resize_(0). (Triggered internally at ../aten/src/ATen/native/Resize.cpp:28.)\n",
            "  torch.mul(tensorData2, tensor4x4, out=tensorMul2_4x4)\n"
          ]
        }
      ]
    },
    {
      "cell_type": "markdown",
      "source": [
        "### **NumPy Bridging**"
      ],
      "metadata": {
        "id": "ox41V1wmOoFG"
      }
    },
    {
      "cell_type": "code",
      "source": [
        "#Tensors on the CPU can share memory locations with NumPy arrays - so data can be shared between them\n",
        "\n",
        "tensorBridge = torch.ones(5)\n",
        "numpyBridge = tensorBridge.numpy()\n",
        "print(\"Tensor: \", tensorBridge, \"\\n\", \"NumPy: \", numpyBridge, \"\\n\")\n",
        "\n",
        "tensorBridge.add_(1)\n",
        "print(\"Tensor: \", tensorBridge, \"\\n\", \"NumPy: \", numpyBridge, \"\\n\")\n",
        "\n",
        "np.add(numpyBridge, 1, out=numpyBridge)\n",
        "print(\"Tensor: \", tensorBridge, \"\\n\", \"NumPy: \", numpyBridge, \"\\n\")"
      ],
      "metadata": {
        "colab": {
          "base_uri": "https://localhost:8080/"
        },
        "id": "WtE8SY5HN-7H",
        "outputId": "04a1ee3c-dc27-43f0-ec25-bf6272877d79"
      },
      "execution_count": 12,
      "outputs": [
        {
          "output_type": "stream",
          "name": "stdout",
          "text": [
            "Tensor:  tensor([1., 1., 1., 1., 1.]) \n",
            " NumPy:  [1. 1. 1. 1. 1.] \n",
            "\n",
            "Tensor:  tensor([2., 2., 2., 2., 2.]) \n",
            " NumPy:  [2. 2. 2. 2. 2.] \n",
            "\n",
            "Tensor:  tensor([3., 3., 3., 3., 3.]) \n",
            " NumPy:  [3. 3. 3. 3. 3.] \n",
            "\n"
          ]
        }
      ]
    },
    {
      "cell_type": "markdown",
      "source": [
        "## **Datasets and Data Loaders**\n",
        "\n"
      ],
      "metadata": {
        "id": "nF6foKNyYylt"
      }
    },
    {
      "cell_type": "code",
      "source": [
        "import torch\n",
        "from torch.utils.data import Dataset  #Allows the use of preloaded datasets\n",
        "from torchvision import datasets  #Allows the use of dataset functions\n",
        "from torchvision.transforms import ToTensor #Allows the datasets to be imported as Tensors\n",
        "import matplotlib.pyplot as plt\n",
        "\n",
        "training_data = datasets.FashionMNIST(\n",
        "    root = \"data\",  #Download the data to here\n",
        "    train = True,\n",
        "    download = True,\n",
        "    transform = ToTensor() #From a FashionMNIST object\n",
        ")\n",
        "\n",
        "test_data = datasets.FashionMNIST(\n",
        "    root = \"data\",\n",
        "    train = False,\n",
        "    download = True,\n",
        "    transform = ToTensor()\n",
        ")"
      ],
      "metadata": {
        "id": "321b2ji-Y24G"
      },
      "execution_count": 13,
      "outputs": []
    },
    {
      "cell_type": "markdown",
      "source": [
        "### **Iterating and Visualising**"
      ],
      "metadata": {
        "id": "nu6ZFOYsbP-d"
      }
    },
    {
      "cell_type": "code",
      "source": [
        "labelMap = {  #A map of labels indicative of the types of images in the dataset (e.g. all T-Shirts in this dataset have a label of 0)\n",
        "    0: \"T-Shirt\",\n",
        "    1: \"Trouser\",\n",
        "    2: \"Pullover\",\n",
        "    3: \"Dress\",\n",
        "    4: \"Coat\",\n",
        "    5: \"Sandal\",\n",
        "    6: \"Shirt\",\n",
        "    7: \"Sneaker\",\n",
        "    8: \"Bag\",\n",
        "    9: \"Ankle Boot\",\n",
        "}\n",
        "\n",
        "figure = plt.figure(figsize=(8, 8)) #How big the plot is\n",
        "cols, rows = 3, 3\n",
        "for i in range(1, cols*rows+1) :\n",
        "  sample_index = torch.randint(len(training_data), size=(1,)).item() #Get a single random item from the training data\n",
        "  image, label = training_data[sample_index]\n",
        "  figure.add_subplot(rows, cols, i) #Add the image to the plot with its corresponding label\n",
        "  plt.title(labelMap[label])\n",
        "  plt.axis(\"off\")\n",
        "  plt.imshow(image.squeeze(), cmap=\"gray\")  #Shows the images as greyscale\n",
        "plt.show()"
      ],
      "metadata": {
        "colab": {
          "base_uri": "https://localhost:8080/",
          "height": 675
        },
        "id": "sE8XTax-axq8",
        "outputId": "3284c45c-2472-41c1-f7a5-8322e7f25cdf"
      },
      "execution_count": 14,
      "outputs": [
        {
          "output_type": "display_data",
          "data": {
            "text/plain": [
              "<Figure size 800x800 with 9 Axes>"
            ],
            "image/png": "[encoded data removed]"
          },
          "metadata": {}
        }
      ]
    },
    {
      "cell_type": "markdown",
      "source": [
        "### **Creating a Custom Dataset**"
      ],
      "metadata": {
        "id": "UVBhlipXe9B2"
      }
    },
    {
      "cell_type": "code",
      "source": [
        "import os\n",
        "import pandas as pd\n",
        "from torchvision.io import read_image\n",
        "\n",
        "class CustomImageDataset(Dataset):\n",
        "    def __init__(self, annotations_file, img_dir, transform=None, target_transform=None): #Initialises the annotation file, directory and both transforms\n",
        "        self.img_labels = pd.read_csv(annotations_file) #The labels.csv file will contain a list of images mapped to their labels (e.g. tshirt1, 1 ... ankleboot999, 9)\n",
        "        self.img_dir = img_dir\n",
        "        self.transform = transform\n",
        "        self.target_transform = target_transform\n",
        "\n",
        "    def __len__(self): #Returns the number of samples in the dataset\n",
        "        return len(self.img_labels)\n",
        "\n",
        "    def __getitem__(self, idx): #Returns a sample from the dataset at a given index in tensor format (as well as its label)\n",
        "        img_path = os.path.join(self.img_dir, self.img_labels.iloc[idx, 0])\n",
        "        image = read_image(img_path)\n",
        "        label = self.img_labels.iloc[idx, 1]\n",
        "        if self.transform:\n",
        "            image = self.transform(image)\n",
        "        if self.target_transform:\n",
        "            label = self.target_transform(label)\n",
        "        return image, label"
      ],
      "metadata": {
        "id": "_ZlDdqVAfDne"
      },
      "execution_count": 15,
      "outputs": []
    },
    {
      "cell_type": "markdown",
      "source": [
        "### **Preparing to Train the Dataset with Data Loaders**"
      ],
      "metadata": {
        "id": "57fk1hSDiOEQ"
      }
    },
    {
      "cell_type": "code",
      "source": [
        "from torch.utils.data import DataLoader\n",
        "\n",
        "train_dataloader = DataLoader(training_data, batch_size=64, shuffle=True) #Dataloaders speed up data processing and reduce overfitting\n",
        "test_dataloader = DataLoader(test_data, batch_size=64, shuffle=True)\n",
        "\n",
        "#Display the image and label\n",
        "train_features, train_labels = next(iter(train_dataloader))\n",
        "print(\"Feature batch shape: \", train_features.size())\n",
        "print(\"Labels batch shape: \", train_labels.size())\n",
        "image = train_features[0].squeeze()\n",
        "label = train_labels[0].item()\n",
        "plt.imshow(image, cmap=\"gray\")\n",
        "plt.show()\n",
        "print(\"Label: \", label)"
      ],
      "metadata": {
        "colab": {
          "base_uri": "https://localhost:8080/",
          "height": 482
        },
        "id": "TElSjsf7iWmN",
        "outputId": "f228e908-c98c-4d08-db0f-c9bd20880a8d"
      },
      "execution_count": 16,
      "outputs": [
        {
          "output_type": "stream",
          "name": "stdout",
          "text": [
            "Feature batch shape:  torch.Size([64, 1, 28, 28])\n",
            "Labels batch shape:  torch.Size([64])\n"
          ]
        },
        {
          "output_type": "display_data",
          "data": {
            "text/plain": [
              "<Figure size 640x480 with 1 Axes>"
            ],
            "image/png": "[encoded data removed]"
          },
          "metadata": {}
        },
        {
          "output_type": "stream",
          "name": "stdout",
          "text": [
            "Label:  5\n"
          ]
        }
      ]
    },
    {
      "cell_type": "markdown",
      "source": [
        "## **Transformations**"
      ],
      "metadata": {
        "id": "35dLpoLdkkyN"
      }
    },
    {
      "cell_type": "code",
      "source": [
        "import torch\n",
        "from torchvision import datasets\n",
        "from torchvision.transforms import ToTensor, Lambda #We use these to format the data to make it suitable for training\n",
        "                                                    ##ToTensor - Converts NpArrays into tensors\n",
        "                                                    ##Lambda - Applies user defined lambda functions\n",
        "                                                    ###One hot encoding - Creates a zero tensor of size 10, calls scatter, assigning a 1 at index given by y\n",
        "\n",
        "trds = datasets.FashionMNIST(\n",
        "    root=\"data\",\n",
        "    train=True,\n",
        "    download=True,\n",
        "    transform=ToTensor(), #Modify the features (to a tensor)\n",
        "    target_transform=Lambda(lambda y: torch.zeros(10, dtype=torch.float).scatter_(0, torch.tensor(y), value=1)) #Modify the labels (to one hot encoded tensors)\n",
        ")"
      ],
      "metadata": {
        "id": "LEkFr_sQkolm"
      },
      "execution_count": 17,
      "outputs": []
    },
    {
      "cell_type": "markdown",
      "source": [
        "## **Building a NN**"
      ],
      "metadata": {
        "id": "HYwapCu6oaMJ"
      }
    },
    {
      "cell_type": "code",
      "source": [
        "import os\n",
        "import torch\n",
        "from torch import nn\n",
        "from torch.utils.data import DataLoader\n",
        "from torchvision import datasets, transforms\n",
        "\n",
        "#Want to train the model on the fastest hardware accelerator (GPU/MPS) if possible - check to see if available, else use CPU - can use this cool switch case\n",
        "device = (\n",
        "    'cuda'\n",
        "    if torch.cuda.is_available()\n",
        "    else 'mps'\n",
        "    if torch.backends.mps.is_available()\n",
        "    else 'cpu'\n",
        ")\n",
        "print(\"Using\", device, \"device\")"
      ],
      "metadata": {
        "colab": {
          "base_uri": "https://localhost:8080/"
        },
        "id": "ZgFJtQMqodiy",
        "outputId": "60cfec3e-9b09-438b-e4ed-aa30922e3afe"
      },
      "execution_count": 23,
      "outputs": [
        {
          "output_type": "stream",
          "name": "stdout",
          "text": [
            "Using cpu device\n"
          ]
        }
      ]
    },
    {
      "cell_type": "markdown",
      "source": [
        "### **Define a NN class**"
      ],
      "metadata": {
        "id": "VrnXiB5XqPJq"
      }
    },
    {
      "cell_type": "code",
      "source": [
        "class NeuralNetwork(nn.Module): #A subclass of the NN module\n",
        "    def __init__(self):\n",
        "        super().__init__()\n",
        "        self.flatten = nn.Flatten() #Initialise like the parent class\n",
        "        self.linear_relu_stack = nn.Sequential( #*What does this do?\n",
        "            nn.Linear(28*28, 512),\n",
        "            nn.ReLU(),\n",
        "            nn.Linear(512, 512),\n",
        "            nn.ReLU(),\n",
        "            nn.Linear(512, 10),\n",
        "        )\n",
        "\n",
        "    def forward(self, x):\n",
        "        x = self.flatten(x)\n",
        "        logits = self.linear_relu_stack(x)\n",
        "        return logits\n",
        "\n",
        "model = NeuralNetwork().to(device) #*What does this do?\n",
        "print(model)\n",
        "\n",
        "#Forwarding the model (passing it input data)\n",
        "X = torch.rand(1, 28, 28, device=device)\n",
        "logits = model(X) #Pass the data into the model\n",
        "pred_probab = nn.Softmax(dim=1)(logits) #*What does this do?\n",
        "y_pred = pred_probab.argmax(1)\n",
        "print(\"Predicted class: \", y_pred)"
      ],
      "metadata": {
        "colab": {
          "base_uri": "https://localhost:8080/"
        },
        "id": "HiLbUYQ6qXLJ",
        "outputId": "cc62afb5-150b-416d-d5f6-c4d50a2cd1e7"
      },
      "execution_count": 24,
      "outputs": [
        {
          "output_type": "stream",
          "name": "stdout",
          "text": [
            "NeuralNetwork(\n",
            "  (flatten): Flatten(start_dim=1, end_dim=-1)\n",
            "  (linear_relu_stack): Sequential(\n",
            "    (0): Linear(in_features=784, out_features=512, bias=True)\n",
            "    (1): ReLU()\n",
            "    (2): Linear(in_features=512, out_features=512, bias=True)\n",
            "    (3): ReLU()\n",
            "    (4): Linear(in_features=512, out_features=10, bias=True)\n",
            "  )\n",
            ")\n"
          ]
        }
      ]
    }
  ]
}