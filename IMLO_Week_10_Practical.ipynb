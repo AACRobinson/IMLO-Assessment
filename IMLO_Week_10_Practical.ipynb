{
  "nbformat": 4,
  "nbformat_minor": 0,
  "metadata": {
    "colab": {
      "provenance": [],
      "gpuType": "T4",
      "authorship_tag": "ABX9TyNRXZACGhChoLhhBHva+PQz",
      "include_colab_link": true
    },
    "kernelspec": {
      "name": "python3",
      "display_name": "Python 3"
    },
    "language_info": {
      "name": "python"
    }
  },
  "cells": [
    {
      "cell_type": "markdown",
      "metadata": {
        "id": "view-in-github",
        "colab_type": "text"
      },
      "source": [
        "<a href=\"https://colab.research.google.com/github/AACRobinson/IMLO-Assessment/blob/main/IMLO_Week_10_Practical.ipynb\" target=\"_parent\"><img src=\"https://colab.research.google.com/assets/colab-badge.svg\" alt=\"Open In Colab\"/></a>"
      ]
    },
    {
      "cell_type": "markdown",
      "source": [
        "# **PyTorch Tutorial**"
      ],
      "metadata": {
        "id": "1MAGrFAQAK2Z"
      }
    },
    {
      "cell_type": "code",
      "execution_count": 25,
      "metadata": {
        "id": "DSqb5XVZ_LCt"
      },
      "outputs": [],
      "source": [
        "#Tensor - A multidimensional array/matrix, common in PyTorch\n",
        "\n",
        "import torch\n",
        "import numpy as np"
      ]
    },
    {
      "cell_type": "markdown",
      "source": [
        "## **Initialising Tensors**"
      ],
      "metadata": {
        "id": "_JxgHgPhOO9T"
      }
    },
    {
      "cell_type": "code",
      "source": [
        "#1. Directly from data\n",
        "data1 = [[1, 2], [3, 4]]\n",
        "data2 = [[1.0], [2.0], [3.0], [4.0]]\n",
        "tensorData1 = torch.tensor(data1)\n",
        "tensorData2 = torch.tensor(data2)\n",
        "print(tensorData1, tensorData1.dtype)\n",
        "print(tensorData2, tensorData2.dtype)\n",
        "\n",
        "#2. From (an to) NumPy arrays\n",
        "np_array1 = np.array(data1)\n",
        "tensorNp1 = torch.from_numpy(np_array1)\n",
        "np_array2 = tensorNp1.numpy()\n",
        "print(tensorNp1)\n",
        "print(np_array2)\n",
        "\n",
        "#3. From another tensor\n",
        "tensorOf1s = torch.ones_like(tensorData2) #Same dimensions and datatype as tensorData2\n",
        "print(tensorOf1s)\n",
        "tensorOf0s = torch.zeros((3, 3)) #Dimensions of (3, 3)\n",
        "print(tensorOf0s)\n",
        "tensorRandom = torch.rand_like(tensorData1, dtype=torch.float) #Same dimensions as tensorData1, but float datatype\n",
        "print(tensorRandom)"
      ],
      "metadata": {
        "colab": {
          "base_uri": "https://localhost:8080/"
        },
        "id": "fIiawKNyAGlL",
        "outputId": "79a1f0cb-1356-4a2c-f0fa-de0868b5ae29"
      },
      "execution_count": 26,
      "outputs": [
        {
          "output_type": "stream",
          "name": "stdout",
          "text": [
            "tensor([[1, 2],\n",
            "        [3, 4]]) torch.int64\n",
            "tensor([[1.],\n",
            "        [2.],\n",
            "        [3.],\n",
            "        [4.]]) torch.float32\n",
            "tensor([[1, 2],\n",
            "        [3, 4]])\n",
            "[[1 2]\n",
            " [3 4]]\n",
            "tensor([[1.],\n",
            "        [1.],\n",
            "        [1.],\n",
            "        [1.]])\n",
            "tensor([[0., 0., 0.],\n",
            "        [0., 0., 0.],\n",
            "        [0., 0., 0.]])\n",
            "tensor([[0.9305, 0.0494],\n",
            "        [0.5187, 0.6490]])\n"
          ]
        }
      ]
    },
    {
      "cell_type": "markdown",
      "source": [
        "### **Tensor Operations**"
      ],
      "metadata": {
        "id": "PCJ3sbG5OW27"
      }
    },
    {
      "cell_type": "code",
      "source": [
        "#Can run these operations on a GPU - Allocate  GPU to run on with Runtime > Change Runtime Type > GPU\n",
        "\n",
        "#Move a tensor to the GPU\n",
        "if torch.cuda.is_available():\n",
        "  tensorData1 = tensorData1.to('cuda')\n",
        "  tensorData2 = tensorData2.to('cuda')\n",
        "  #To prevent errors between tensors due to operations with them being on the cpu/cuda, will move them off\n",
        "  tensorData1 = tensorData1.to('cpu')\n",
        "  tensorData2 = tensorData2.to('cpu')\n",
        "\n",
        "\n",
        "#Tensor slicing - identical to NumPy\n",
        "tensor4x4 = torch.zeros(4, 4)\n",
        "tensor4x4[1] = 1\n",
        "tensor4x4[:, 2] = 1\n",
        "print(tensor4x4)\n",
        "print(\"Row 0\", tensor4x4[0])\n",
        "print(\"Column 0\", tensor4x4[:, 0])\n",
        "print(\"Row n\", tensor4x4[-1])\n",
        "print(\"Column n\", tensor4x4[..., -1], \"\\n\")\n",
        "\n",
        "\n",
        "#Tensor type conversion\n",
        "print(tensor4x4, tensor4x4.dtype)\n",
        "tensor4x4 = tensor4x4.to(int)\n",
        "print(tensor4x4, tensor4x4.dtype, \"\\n\")\n",
        "\n",
        "\n",
        "#Tensor concatenation\n",
        "tensor4x8 = torch.cat([tensor4x4, tensor4x4]) #dim=0\n",
        "tensor8x4 = torch.cat([tensor4x4, tensor4x4], dim=1)\n",
        "print(tensor4x8)\n",
        "print(tensor8x4, \"\\n\")\n",
        "\n",
        "\n",
        "#Tensor arithmetic - identical to NumPy\n",
        "tensorMul2_2 = tensorData2 @ tensorData2.T\n",
        "tensorMul1_1 = tensorData1.to(float).matmul(tensorData1.to(float))\n",
        "tensorMul2_4x4 = torch.rand_like(tensorData2)\n",
        "torch.mul(tensorData2, tensor4x4, out=tensorMul2_4x4)\n",
        "print(tensorMul2_2)\n",
        "print(tensorMul1_1)\n",
        "print(tensorMul2_4x4, \"\\n\")\n",
        "\n",
        "\n",
        "#Get the sum of all values in a tensor (and convert to corresponding datatype)\n",
        "sumOfMul2_4x4 = tensorMul2_4x4.sum()\n",
        "sumOfMul2_4x4Object = sumOfMul2_4x4.item()\n",
        "print(sumOfMul2_4x4Object, type(sumOfMul2_4x4Object), \"\\n\")\n",
        "\n",
        "\n",
        "#Add a scalar to all values in the tensor\n",
        "tensor4x4.add_(2)\n",
        "print(tensor4x4)"
      ],
      "metadata": {
        "colab": {
          "base_uri": "https://localhost:8080/"
        },
        "id": "ktsBdkR4EHiV",
        "outputId": "2367be16-f739-4fbc-8d15-5dc69d8efbff"
      },
      "execution_count": 27,
      "outputs": [
        {
          "output_type": "stream",
          "name": "stdout",
          "text": [
            "tensor([[0., 0., 1., 0.],\n",
            "        [1., 1., 1., 1.],\n",
            "        [0., 0., 1., 0.],\n",
            "        [0., 0., 1., 0.]])\n",
            "Row 0 tensor([0., 0., 1., 0.])\n",
            "Column 0 tensor([0., 1., 0., 0.])\n",
            "Row n tensor([0., 0., 1., 0.])\n",
            "Column n tensor([0., 1., 0., 0.]) \n",
            "\n",
            "tensor([[0., 0., 1., 0.],\n",
            "        [1., 1., 1., 1.],\n",
            "        [0., 0., 1., 0.],\n",
            "        [0., 0., 1., 0.]]) torch.float32\n",
            "tensor([[0, 0, 1, 0],\n",
            "        [1, 1, 1, 1],\n",
            "        [0, 0, 1, 0],\n",
            "        [0, 0, 1, 0]]) torch.int64 \n",
            "\n",
            "tensor([[0, 0, 1, 0],\n",
            "        [1, 1, 1, 1],\n",
            "        [0, 0, 1, 0],\n",
            "        [0, 0, 1, 0],\n",
            "        [0, 0, 1, 0],\n",
            "        [1, 1, 1, 1],\n",
            "        [0, 0, 1, 0],\n",
            "        [0, 0, 1, 0]])\n",
            "tensor([[0, 0, 1, 0, 0, 0, 1, 0],\n",
            "        [1, 1, 1, 1, 1, 1, 1, 1],\n",
            "        [0, 0, 1, 0, 0, 0, 1, 0],\n",
            "        [0, 0, 1, 0, 0, 0, 1, 0]]) \n",
            "\n",
            "tensor([[ 1.,  2.,  3.,  4.],\n",
            "        [ 2.,  4.,  6.,  8.],\n",
            "        [ 3.,  6.,  9., 12.],\n",
            "        [ 4.,  8., 12., 16.]])\n",
            "tensor([[ 7., 10.],\n",
            "        [15., 22.]], dtype=torch.float64)\n",
            "tensor([[0., 0., 1., 0.],\n",
            "        [2., 2., 2., 2.],\n",
            "        [0., 0., 3., 0.],\n",
            "        [0., 0., 4., 0.]]) \n",
            "\n",
            "16.0 <class 'float'> \n",
            "\n",
            "tensor([[2, 2, 3, 2],\n",
            "        [3, 3, 3, 3],\n",
            "        [2, 2, 3, 2],\n",
            "        [2, 2, 3, 2]])\n"
          ]
        },
        {
          "output_type": "stream",
          "name": "stderr",
          "text": [
            "<ipython-input-27-e7812767c14f>:40: UserWarning: An output with one or more elements was resized since it had shape [4, 1], which does not match the required output shape [4, 4]. This behavior is deprecated, and in a future PyTorch release outputs will not be resized unless they have zero elements. You can explicitly reuse an out tensor t by resizing it, inplace, to zero elements with t.resize_(0). (Triggered internally at ../aten/src/ATen/native/Resize.cpp:28.)\n",
            "  torch.mul(tensorData2, tensor4x4, out=tensorMul2_4x4)\n"
          ]
        }
      ]
    },
    {
      "cell_type": "markdown",
      "source": [
        "### **NumPy Bridging**"
      ],
      "metadata": {
        "id": "ox41V1wmOoFG"
      }
    },
    {
      "cell_type": "code",
      "source": [
        "#Tensors on the CPU can share memory locations with NumPy arrays - so data can be shared between them\n",
        "\n",
        "tensorBridge = torch.ones(5)\n",
        "numpyBridge = tensorBridge.numpy()\n",
        "print(\"Tensor: \", tensorBridge, \"\\n\", \"NumPy: \", numpyBridge, \"\\n\")\n",
        "\n",
        "tensorBridge.add_(1)\n",
        "print(\"Tensor: \", tensorBridge, \"\\n\", \"NumPy: \", numpyBridge, \"\\n\")\n",
        "\n",
        "np.add(numpyBridge, 1, out=numpyBridge)\n",
        "print(\"Tensor: \", tensorBridge, \"\\n\", \"NumPy: \", numpyBridge, \"\\n\")"
      ],
      "metadata": {
        "colab": {
          "base_uri": "https://localhost:8080/"
        },
        "id": "WtE8SY5HN-7H",
        "outputId": "9b3e7006-dff9-4978-cde2-e9efbfc1a0d8"
      },
      "execution_count": 28,
      "outputs": [
        {
          "output_type": "stream",
          "name": "stdout",
          "text": [
            "Tensor:  tensor([1., 1., 1., 1., 1.]) \n",
            " NumPy:  [1. 1. 1. 1. 1.] \n",
            "\n",
            "Tensor:  tensor([2., 2., 2., 2., 2.]) \n",
            " NumPy:  [2. 2. 2. 2. 2.] \n",
            "\n",
            "Tensor:  tensor([3., 3., 3., 3., 3.]) \n",
            " NumPy:  [3. 3. 3. 3. 3.] \n",
            "\n"
          ]
        }
      ]
    },
    {
      "cell_type": "markdown",
      "source": [
        "## **Datasets and Data Loaders**\n",
        "\n"
      ],
      "metadata": {
        "id": "nF6foKNyYylt"
      }
    },
    {
      "cell_type": "code",
      "source": [
        "import torch\n",
        "from torch.utils.data import Dataset  #Allows the use of preloaded datasets\n",
        "from torchvision import datasets  #Allows the use of dataset functions\n",
        "from torchvision.transforms import ToTensor #Allows the datasets to be imported as Tensors\n",
        "import matplotlib.pyplot as plt\n",
        "\n",
        "training_data = datasets.FashionMNIST(\n",
        "    root = \"data\",  #Download the data to here\n",
        "    train = True,\n",
        "    download = True,\n",
        "    transform = ToTensor() #From a FashionMNIST object\n",
        ")\n",
        "\n",
        "test_data = datasets.FashionMNIST(\n",
        "    root = \"data\",\n",
        "    train = False,\n",
        "    download = True,\n",
        "    transform = ToTensor()\n",
        ")"
      ],
      "metadata": {
        "id": "321b2ji-Y24G"
      },
      "execution_count": 29,
      "outputs": []
    },
    {
      "cell_type": "markdown",
      "source": [
        "### **Iterating and Visualising**"
      ],
      "metadata": {
        "id": "nu6ZFOYsbP-d"
      }
    },
    {
      "cell_type": "code",
      "source": [
        "labelMap = {  #A map of labels indicative of the types of images in the dataset (e.g. all T-Shirts in this dataset have a label of 0)\n",
        "    0: \"T-Shirt\",\n",
        "    1: \"Trouser\",\n",
        "    2: \"Pullover\",\n",
        "    3: \"Dress\",\n",
        "    4: \"Coat\",\n",
        "    5: \"Sandal\",\n",
        "    6: \"Shirt\",\n",
        "    7: \"Sneaker\",\n",
        "    8: \"Bag\",\n",
        "    9: \"Ankle Boot\",\n",
        "}\n",
        "\n",
        "figure = plt.figure(figsize=(8, 8)) #How big the plot is\n",
        "cols, rows = 3, 3\n",
        "for i in range(1, cols*rows+1) :\n",
        "  sample_index = torch.randint(len(training_data), size=(1,)).item() #Get a single random item from the training data\n",
        "  image, label = training_data[sample_index]\n",
        "  figure.add_subplot(rows, cols, i) #Add the image to the plot with its corresponding label\n",
        "  plt.title(labelMap[label])\n",
        "  plt.axis(\"off\")\n",
        "  plt.imshow(image.squeeze(), cmap=\"gray\")  #Shows the images as greyscale\n",
        "plt.show()"
      ],
      "metadata": {
        "colab": {
          "base_uri": "https://localhost:8080/",
          "height": 675
        },
        "id": "sE8XTax-axq8",
        "outputId": "4bb9474a-e881-4471-bd72-368548989ad5"
      },
      "execution_count": 30,
      "outputs": [
        {
          "output_type": "display_data",
          "data": {
            "text/plain": [
              "<Figure size 800x800 with 9 Axes>"
            ],
            "image/png": "[encoded data removed]"
          },
          "metadata": {}
        }
      ]
    },
    {
      "cell_type": "markdown",
      "source": [
        "### **Creating a Custom Dataset**"
      ],
      "metadata": {
        "id": "UVBhlipXe9B2"
      }
    },
    {
      "cell_type": "code",
      "source": [
        "import os\n",
        "import pandas as pd\n",
        "from torchvision.io import read_image\n",
        "\n",
        "class CustomImageDataset(Dataset):\n",
        "    def __init__(self, annotations_file, img_dir, transform=None, target_transform=None): #Initialises the annotation file, directory and both transforms\n",
        "        self.img_labels = pd.read_csv(annotations_file) #The labels.csv file will contain a list of images mapped to their labels (e.g. tshirt1, 1 ... ankleboot999, 9)\n",
        "        self.img_dir = img_dir\n",
        "        self.transform = transform\n",
        "        self.target_transform = target_transform\n",
        "\n",
        "    def __len__(self): #Returns the number of samples in the dataset\n",
        "        return len(self.img_labels)\n",
        "\n",
        "    def __getitem__(self, idx): #Returns a sample from the dataset at a given index in tensor format (as well as its label)\n",
        "        img_path = os.path.join(self.img_dir, self.img_labels.iloc[idx, 0])\n",
        "        image = read_image(img_path)\n",
        "        label = self.img_labels.iloc[idx, 1]\n",
        "        if self.transform:\n",
        "            image = self.transform(image)\n",
        "        if self.target_transform:\n",
        "            label = self.target_transform(label)\n",
        "        return image, label"
      ],
      "metadata": {
        "id": "_ZlDdqVAfDne"
      },
      "execution_count": 31,
      "outputs": []
    },
    {
      "cell_type": "markdown",
      "source": [
        "### **Preparing to Train the Dataset with Data Loaders**"
      ],
      "metadata": {
        "id": "57fk1hSDiOEQ"
      }
    },
    {
      "cell_type": "code",
      "source": [
        "from torch.utils.data import DataLoader\n",
        "\n",
        "train_dataloader = DataLoader(training_data, batch_size=64, shuffle=True) #Dataloaders speed up data processing and reduce overfitting\n",
        "test_dataloader = DataLoader(test_data, batch_size=64, shuffle=True)\n",
        "\n",
        "#Display the image and label\n",
        "train_features, train_labels = next(iter(train_dataloader))\n",
        "print(\"Feature batch shape: \", train_features.size())\n",
        "print(\"Labels batch shape: \", train_labels.size())\n",
        "image = train_features[0].squeeze()\n",
        "label = train_labels[0].item()\n",
        "plt.imshow(image, cmap=\"gray\")\n",
        "plt.show()\n",
        "print(\"Label: \", label)"
      ],
      "metadata": {
        "colab": {
          "base_uri": "https://localhost:8080/",
          "height": 482
        },
        "id": "TElSjsf7iWmN",
        "outputId": "f535c699-97f8-4484-a5bc-611a37a00249"
      },
      "execution_count": 32,
      "outputs": [
        {
          "output_type": "stream",
          "name": "stdout",
          "text": [
            "Feature batch shape:  torch.Size([64, 1, 28, 28])\n",
            "Labels batch shape:  torch.Size([64])\n"
          ]
        },
        {
          "output_type": "display_data",
          "data": {
            "text/plain": [
              "<Figure size 640x480 with 1 Axes>"
            ],
            "image/png": "[encoded data removed]"
          },
          "metadata": {}
        },
        {
          "output_type": "stream",
          "name": "stdout",
          "text": [
            "Label:  7\n"
          ]
        }
      ]
    },
    {
      "cell_type": "markdown",
      "source": [
        "## **Transformations**"
      ],
      "metadata": {
        "id": "35dLpoLdkkyN"
      }
    },
    {
      "cell_type": "code",
      "source": [
        "import torch\n",
        "from torchvision import datasets\n",
        "from torchvision.transforms import ToTensor, Lambda #We use these to format the data to make it suitable for training\n",
        "                                                    ##ToTensor - Converts NpArrays into tensors\n",
        "                                                    ##Lambda - Applies user defined lambda functions\n",
        "                                                    ###One hot encoding - Creates a zero tensor of size 10, calls scatter, assigning a 1 at index given by y\n",
        "\n",
        "trds = datasets.FashionMNIST(\n",
        "    root=\"data\",\n",
        "    train=True,\n",
        "    download=True,\n",
        "    transform=ToTensor(), #Modify the features (to a tensor)\n",
        "    target_transform=Lambda(lambda y: torch.zeros(10, dtype=torch.float).scatter_(0, torch.tensor(y), value=1)) #Modify the labels (to one hot encoded tensors)\n",
        ")"
      ],
      "metadata": {
        "id": "LEkFr_sQkolm"
      },
      "execution_count": 33,
      "outputs": []
    },
    {
      "cell_type": "markdown",
      "source": [
        "## **Building a NN**"
      ],
      "metadata": {
        "id": "HYwapCu6oaMJ"
      }
    },
    {
      "cell_type": "code",
      "source": [
        "import os\n",
        "import torch\n",
        "from torch import nn\n",
        "from torch.utils.data import DataLoader\n",
        "from torchvision import datasets, transforms\n",
        "\n",
        "#Want to train the model on the fastest hardware accelerator (GPU/MPS) if possible - check to see if available, else use CPU - can use this cool switch case\n",
        "device = (\n",
        "    'cuda'\n",
        "    if torch.cuda.is_available()\n",
        "    else 'mps'\n",
        "    if torch.backends.mps.is_available()\n",
        "    else 'cpu'\n",
        ")\n",
        "print(\"Using\", device, \"device\")"
      ],
      "metadata": {
        "colab": {
          "base_uri": "https://localhost:8080/"
        },
        "id": "ZgFJtQMqodiy",
        "outputId": "7e2e1076-69a7-4924-debe-68d4d1077f64"
      },
      "execution_count": 34,
      "outputs": [
        {
          "output_type": "stream",
          "name": "stdout",
          "text": [
            "Using cpu device\n"
          ]
        }
      ]
    },
    {
      "cell_type": "markdown",
      "source": [
        "### **Define a NN class**"
      ],
      "metadata": {
        "id": "VrnXiB5XqPJq"
      }
    },
    {
      "cell_type": "code",
      "source": [
        "class NeuralNetwork(nn.Module): #A subclass of the NN module\n",
        "    def __init__(self):\n",
        "        super().__init__()\n",
        "        self.flatten = nn.Flatten() #Initialise like the parent class - flatten from (28, 28) to 784\n",
        "        self.linear_relu_stack = nn.Sequential( #5 layers\n",
        "            nn.Linear(784, 512), #Linear transformation - make smaller\n",
        "            nn.ReLU(), #Run ReLU\n",
        "            nn.Linear(512, 512),\n",
        "            nn.ReLU(),\n",
        "            nn.Linear(512, 10), #Make even smaller - 10 outputs\n",
        "        )\n",
        "\n",
        "    def forward(self, x):\n",
        "        x = self.flatten(x)\n",
        "        logits = self.linear_relu_stack(x)\n",
        "        return logits\n",
        "\n",
        "model = NeuralNetwork().to(device) #Assigns this NN model to the current device - CPU, GPU, etc\n",
        "print(model, \"\\n\")\n",
        "\n",
        "#Forwarding the model (passing it input data)\n",
        "X = torch.rand(1, 28, 28, device=device)\n",
        "logits = model(X) #Pass the data into the model\n",
        "pred_probab = nn.Softmax(dim=1)(logits) #Predicts the probability of each of the 10 outputs\n",
        "y_pred = pred_probab.argmax(1) #Gets the most likely of those outputs - this is the predicited class of the image\n",
        "print(\"Predicted class: \", y_pred, \"\\n\")\n",
        "\n",
        "\n",
        "#Purpose of Flattening\n",
        "input_image = torch.rand(3, 28, 28)\n",
        "print(input_image.size()) #3 28x28 image dimensions (3 784 pixel values)\n",
        "flattenFunction = nn.Flatten()\n",
        "flat_input_image = flattenFunction(input_image) #3 images contained in a contiguous 784 pixel value array\n",
        "print(flat_input_image.size(), \"\\n\")\n",
        "\n",
        "\n",
        "#Linear Transformation\n",
        "linearLayer = nn.Linear(in_features=28*28, out_features=20)\n",
        "hiddenLinearLayer = linearLayer(flat_input_image)\n",
        "print(hiddenLinearLayer.size(), \"\\n\")\n",
        "\n",
        "\n",
        "#Define Sequential Model - data is passed through layers in the predefined order\n",
        "seq_modules = nn.Sequential(\n",
        "    nn.Flatten(),  #Flatten function\n",
        "    linearLayer,  #Linear transformation layer we defined earlier\n",
        "    nn.ReLU(),  #ReLU function\n",
        "    nn.Linear(20, 10) #Linear transformation from 20 outputs to 10 (our Linear transformation layer gives 20 outputs)\n",
        ")\n",
        "input_image = torch.rand(3,28,28)\n",
        "logits = seq_modules(input_image) #Raw probabilities\n",
        "\n",
        "\n",
        "#Softmax Function\n",
        "softmax = nn.Softmax(dim=1)\n",
        "predictedProbability = softmax(logits) #Gets the most probable of the supplied logits\n",
        "\n",
        "\n",
        "#Model Parameters\n",
        "#Theta and Theta_0 are optimised during the iteration of the NN\n",
        "print(\"Model structure: \", model, \"\\n\\n\")\n",
        "\n",
        "for name, param in model.named_parameters():\n",
        "    print(\"Layer: \", name, \"| Size: \", param.size(), \"| Values : \", param[:2], \"\\n\")"
      ],
      "metadata": {
        "colab": {
          "base_uri": "https://localhost:8080/"
        },
        "id": "HiLbUYQ6qXLJ",
        "outputId": "d44d247a-80b4-48d5-aee5-425f70ed1ad6"
      },
      "execution_count": 43,
      "outputs": [
        {
          "output_type": "stream",
          "name": "stdout",
          "text": [
            "NeuralNetwork(\n",
            "  (flatten): Flatten(start_dim=1, end_dim=-1)\n",
            "  (linear_relu_stack): Sequential(\n",
            "    (0): Linear(in_features=784, out_features=512, bias=True)\n",
            "    (1): ReLU()\n",
            "    (2): Linear(in_features=512, out_features=512, bias=True)\n",
            "    (3): ReLU()\n",
            "    (4): Linear(in_features=512, out_features=10, bias=True)\n",
            "  )\n",
            ") \n",
            "\n",
            "Predicted class:  tensor([1]) \n",
            "\n",
            "torch.Size([3, 28, 28])\n",
            "torch.Size([3, 784]) \n",
            "\n",
            "torch.Size([3, 20]) \n",
            "\n",
            "Model structure:  NeuralNetwork(\n",
            "  (flatten): Flatten(start_dim=1, end_dim=-1)\n",
            "  (linear_relu_stack): Sequential(\n",
            "    (0): Linear(in_features=784, out_features=512, bias=True)\n",
            "    (1): ReLU()\n",
            "    (2): Linear(in_features=512, out_features=512, bias=True)\n",
            "    (3): ReLU()\n",
            "    (4): Linear(in_features=512, out_features=10, bias=True)\n",
            "  )\n",
            ") \n",
            "\n",
            "\n",
            "Layer:  linear_relu_stack.0.weight | Size:  torch.Size([512, 784]) | Values :  tensor([[ 0.0052, -0.0304,  0.0015,  ..., -0.0258,  0.0051,  0.0309],\n",
            "        [-0.0347, -0.0143, -0.0058,  ...,  0.0010,  0.0074, -0.0044]],\n",
            "       grad_fn=<SliceBackward0>) \n",
            "\n",
            "Layer:  linear_relu_stack.0.bias | Size:  torch.Size([512]) | Values :  tensor([ 0.0275, -0.0006], grad_fn=<SliceBackward0>) \n",
            "\n",
            "Layer:  linear_relu_stack.2.weight | Size:  torch.Size([512, 512]) | Values :  tensor([[-0.0288, -0.0208, -0.0031,  ...,  0.0041,  0.0253,  0.0074],\n",
            "        [-0.0003,  0.0320, -0.0438,  ...,  0.0430,  0.0339,  0.0391]],\n",
            "       grad_fn=<SliceBackward0>) \n",
            "\n",
            "Layer:  linear_relu_stack.2.bias | Size:  torch.Size([512]) | Values :  tensor([ 0.0060, -0.0293], grad_fn=<SliceBackward0>) \n",
            "\n",
            "Layer:  linear_relu_stack.4.weight | Size:  torch.Size([10, 512]) | Values :  tensor([[-0.0353, -0.0223, -0.0050,  ..., -0.0090,  0.0439, -0.0167],\n",
            "        [-0.0374,  0.0134,  0.0212,  ...,  0.0388,  0.0433,  0.0371]],\n",
            "       grad_fn=<SliceBackward0>) \n",
            "\n",
            "Layer:  linear_relu_stack.4.bias | Size:  torch.Size([10]) | Values :  tensor([ 0.0008, -0.0419], grad_fn=<SliceBackward0>) \n",
            "\n"
          ]
        }
      ]
    },
    {
      "cell_type": "markdown",
      "source": [
        "# **Automatic Differentiation**"
      ],
      "metadata": {
        "id": "tyI8ONmdHvwg"
      }
    },
    {
      "cell_type": "code",
      "source": [
        "import torch\n",
        "\n",
        "#Back propagation - adjust model weights by the gradient of the loss function (wrt a given parameter)\n",
        "\n",
        "x = torch.ones(5)  #input tensor\n",
        "y = torch.zeros(3)  #expected output\n",
        "w = torch.randn(5, 3, requires_grad=True) #The parameters that we need to optimise\n",
        "b = torch.randn(3, requires_grad=True)    #(The parameters)\n",
        "z = torch.matmul(x, w)+b\n",
        "loss = torch.nn.functional.binary_cross_entropy_with_logits(z, y)\n",
        "\n",
        "\n",
        "#Get the gradient\n",
        "print(\"Gradient of z = \", z.grad_fn)\n",
        "print(\"Gradient of loss = \", loss.grad_fn, \"\\n\")\n",
        "\n",
        "loss.backward()\n",
        "print(\"dloss/dw =\", w.grad)\n",
        "print(\"dloss/db =\", b.grad, \"\\n\")\n",
        "\n",
        "\n",
        "#Disable gradient tracking - model is already trained and we want to test it\n",
        "z = torch.matmul(x, w)+b\n",
        "print(\"Gradient tracking: \", z.requires_grad)\n",
        "\n",
        "with torch.no_grad():\n",
        "    z = torch.matmul(x, w)+b\n",
        "print(\"No gradient tracking: \", z.requires_grad, \"\\n\")"
      ],
      "metadata": {
        "colab": {
          "base_uri": "https://localhost:8080/"
        },
        "id": "IdJXJMeRH6_C",
        "outputId": "eb992198-7554-43fb-d6dd-41e78199cc19"
      },
      "execution_count": 48,
      "outputs": [
        {
          "output_type": "stream",
          "name": "stdout",
          "text": [
            "Gradient of z =  <AddBackward0 object at 0x7c89710d6da0>\n",
            "Gradient of loss =  <BinaryCrossEntropyWithLogitsBackward0 object at 0x7c8965d089a0> \n",
            "\n",
            "dloss/dw = tensor([[0.0277, 0.0098, 0.0308],\n",
            "        [0.0277, 0.0098, 0.0308],\n",
            "        [0.0277, 0.0098, 0.0308],\n",
            "        [0.0277, 0.0098, 0.0308],\n",
            "        [0.0277, 0.0098, 0.0308]])\n",
            "dloss/db = tensor([0.0277, 0.0098, 0.0308]) \n",
            "\n",
            "Gradient tracking:  True\n",
            "No gradient tracking:  False \n",
            "\n"
          ]
        }
      ]
    }
  ]
}